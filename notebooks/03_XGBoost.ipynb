{
 "cells": [
  {
   "cell_type": "markdown",
   "id": "8e1fdc38-826e-4dde-93fd-a56526f7c7d2",
   "metadata": {},
   "source": [
    "# XGBoost Baseline"
   ]
  },
  {
   "cell_type": "markdown",
   "id": "2637b1fe-fb62-4fa5-86ce-2d807ee19921",
   "metadata": {},
   "source": [
    "## Package Importing"
   ]
  },
  {
   "cell_type": "code",
   "execution_count": 1,
   "id": "75e347cd-e2f8-4270-9b14-041e4028aab7",
   "metadata": {},
   "outputs": [],
   "source": [
    "import pandas as pd\n",
    "from sklearn.pipeline import make_pipeline\n",
    "from sklearn.impute import SimpleImputer\n",
    "from sklearn.preprocessing import SplineTransformer, StandardScaler\n",
    "from sklearn.linear_model import LinearRegression\n",
    "from sklearn.model_selection import GridSearchCV\n",
    "import numpy as np"
   ]
  },
  {
   "cell_type": "markdown",
   "id": "c4b13bab-9a46-4bb1-85d9-96fb9772c522",
   "metadata": {},
   "source": [
    "## Data Importing"
   ]
  },
  {
   "cell_type": "code",
   "execution_count": 32,
   "id": "c03eee8c",
   "metadata": {},
   "outputs": [],
   "source": [
    "# ——— load ———\n",
    "df_train = pd.read_csv('../data/raw/train.csv', index_col='id')\n",
    "df_test  = pd.read_csv('../data/raw/test.csv', index_col='id')"
   ]
  },
  {
   "cell_type": "code",
   "execution_count": 18,
   "id": "891556b9",
   "metadata": {},
   "outputs": [],
   "source": [
    "y_train = df_train['Listening_Time_minutes']\n",
    "X_train = df_train.drop(columns='Listening_Time_minutes')"
   ]
  },
  {
   "cell_type": "code",
   "execution_count": 19,
   "id": "d8c4b02e",
   "metadata": {},
   "outputs": [
    {
     "data": {
      "text/plain": [
       "Index(['Podcast_Name', 'Episode_Title', 'Episode_Length_minutes', 'Genre',\n",
       "       'Host_Popularity_percentage', 'Publication_Day', 'Publication_Time',\n",
       "       'Guest_Popularity_percentage', 'Number_of_Ads', 'Episode_Sentiment',\n",
       "       'Listening_Time_minutes'],\n",
       "      dtype='object')"
      ]
     },
     "execution_count": 19,
     "metadata": {},
     "output_type": "execute_result"
    }
   ],
   "source": [
    "df_train.columns"
   ]
  },
  {
   "cell_type": "markdown",
   "id": "b4ac0653",
   "metadata": {},
   "source": [
    "# Data Cleaning"
   ]
  },
  {
   "cell_type": "markdown",
   "id": "37f7dd8e",
   "metadata": {},
   "source": [
    "# Parsing out episode title."
   ]
  },
  {
   "cell_type": "code",
   "execution_count": 21,
   "id": "1fa0a574",
   "metadata": {},
   "outputs": [],
   "source": [
    "df_train['Episode_Number'] = (\n",
    "    df_train\n",
    "        ['Episode_Title']\n",
    "        .str.split(' ') # split based on space so that each element is a list ['Episode','12']\n",
    "        .apply(lambda lst: lst[1])\n",
    "        .astype(int)\n",
    ")"
   ]
  },
  {
   "cell_type": "code",
   "execution_count": 23,
   "id": "87bf49cc",
   "metadata": {},
   "outputs": [],
   "source": [
    "df_train = df_train.drop(columns='Episode_Title')"
   ]
  },
  {
   "cell_type": "code",
   "execution_count": 34,
   "id": "c3cce3be",
   "metadata": {},
   "outputs": [
    {
     "data": {
      "text/html": [
       "<div>\n",
       "<style scoped>\n",
       "    .dataframe tbody tr th:only-of-type {\n",
       "        vertical-align: middle;\n",
       "    }\n",
       "\n",
       "    .dataframe tbody tr th {\n",
       "        vertical-align: top;\n",
       "    }\n",
       "\n",
       "    .dataframe thead th {\n",
       "        text-align: right;\n",
       "    }\n",
       "</style>\n",
       "<table border=\"1\" class=\"dataframe\">\n",
       "  <thead>\n",
       "    <tr style=\"text-align: right;\">\n",
       "      <th></th>\n",
       "      <th>Podcast_Name</th>\n",
       "      <th>Episode_Title</th>\n",
       "      <th>Episode_Length_minutes</th>\n",
       "      <th>Genre</th>\n",
       "      <th>Host_Popularity_percentage</th>\n",
       "      <th>Publication_Day</th>\n",
       "      <th>Publication_Time</th>\n",
       "      <th>Guest_Popularity_percentage</th>\n",
       "      <th>Number_of_Ads</th>\n",
       "      <th>Episode_Sentiment</th>\n",
       "      <th>Listening_Time_minutes</th>\n",
       "    </tr>\n",
       "    <tr>\n",
       "      <th>id</th>\n",
       "      <th></th>\n",
       "      <th></th>\n",
       "      <th></th>\n",
       "      <th></th>\n",
       "      <th></th>\n",
       "      <th></th>\n",
       "      <th></th>\n",
       "      <th></th>\n",
       "      <th></th>\n",
       "      <th></th>\n",
       "      <th></th>\n",
       "    </tr>\n",
       "  </thead>\n",
       "  <tbody>\n",
       "    <tr>\n",
       "      <th>478174</th>\n",
       "      <td>Mystery Matters</td>\n",
       "      <td>Episode 1</td>\n",
       "      <td>83.03</td>\n",
       "      <td>True Crime</td>\n",
       "      <td>41.42</td>\n",
       "      <td>Thursday</td>\n",
       "      <td>Night</td>\n",
       "      <td>14.98</td>\n",
       "      <td>0.0</td>\n",
       "      <td>Neutral</td>\n",
       "      <td>57.86505</td>\n",
       "    </tr>\n",
       "    <tr>\n",
       "      <th>48561</th>\n",
       "      <td>Mystery Matters</td>\n",
       "      <td>Episode 1</td>\n",
       "      <td>68.86</td>\n",
       "      <td>True Crime</td>\n",
       "      <td>57.14</td>\n",
       "      <td>Saturday</td>\n",
       "      <td>Afternoon</td>\n",
       "      <td>57.07</td>\n",
       "      <td>3.0</td>\n",
       "      <td>Positive</td>\n",
       "      <td>47.08334</td>\n",
       "    </tr>\n",
       "    <tr>\n",
       "      <th>6639</th>\n",
       "      <td>Mystery Matters</td>\n",
       "      <td>Episode 1</td>\n",
       "      <td>85.75</td>\n",
       "      <td>True Crime</td>\n",
       "      <td>96.60</td>\n",
       "      <td>Monday</td>\n",
       "      <td>Night</td>\n",
       "      <td>9.86</td>\n",
       "      <td>0.0</td>\n",
       "      <td>Negative</td>\n",
       "      <td>74.67764</td>\n",
       "    </tr>\n",
       "    <tr>\n",
       "      <th>344896</th>\n",
       "      <td>Mystery Matters</td>\n",
       "      <td>Episode 1</td>\n",
       "      <td>107.40</td>\n",
       "      <td>True Crime</td>\n",
       "      <td>68.79</td>\n",
       "      <td>Saturday</td>\n",
       "      <td>Evening</td>\n",
       "      <td>17.40</td>\n",
       "      <td>1.0</td>\n",
       "      <td>Neutral</td>\n",
       "      <td>71.79601</td>\n",
       "    </tr>\n",
       "    <tr>\n",
       "      <th>555505</th>\n",
       "      <td>Mystery Matters</td>\n",
       "      <td>Episode 1</td>\n",
       "      <td>34.24</td>\n",
       "      <td>True Crime</td>\n",
       "      <td>50.12</td>\n",
       "      <td>Friday</td>\n",
       "      <td>Morning</td>\n",
       "      <td>0.99</td>\n",
       "      <td>0.0</td>\n",
       "      <td>Negative</td>\n",
       "      <td>25.56524</td>\n",
       "    </tr>\n",
       "    <tr>\n",
       "      <th>...</th>\n",
       "      <td>...</td>\n",
       "      <td>...</td>\n",
       "      <td>...</td>\n",
       "      <td>...</td>\n",
       "      <td>...</td>\n",
       "      <td>...</td>\n",
       "      <td>...</td>\n",
       "      <td>...</td>\n",
       "      <td>...</td>\n",
       "      <td>...</td>\n",
       "      <td>...</td>\n",
       "    </tr>\n",
       "    <tr>\n",
       "      <th>345785</th>\n",
       "      <td>Mystery Matters</td>\n",
       "      <td>Episode 99</td>\n",
       "      <td>93.51</td>\n",
       "      <td>True Crime</td>\n",
       "      <td>57.51</td>\n",
       "      <td>Monday</td>\n",
       "      <td>Evening</td>\n",
       "      <td>36.01</td>\n",
       "      <td>0.0</td>\n",
       "      <td>Negative</td>\n",
       "      <td>67.88809</td>\n",
       "    </tr>\n",
       "    <tr>\n",
       "      <th>74327</th>\n",
       "      <td>Mystery Matters</td>\n",
       "      <td>Episode 99</td>\n",
       "      <td>12.46</td>\n",
       "      <td>True Crime</td>\n",
       "      <td>86.56</td>\n",
       "      <td>Friday</td>\n",
       "      <td>Morning</td>\n",
       "      <td>64.54</td>\n",
       "      <td>2.0</td>\n",
       "      <td>Positive</td>\n",
       "      <td>7.21367</td>\n",
       "    </tr>\n",
       "    <tr>\n",
       "      <th>333325</th>\n",
       "      <td>Mystery Matters</td>\n",
       "      <td>Episode 99</td>\n",
       "      <td>24.73</td>\n",
       "      <td>True Crime</td>\n",
       "      <td>66.76</td>\n",
       "      <td>Wednesday</td>\n",
       "      <td>Evening</td>\n",
       "      <td>43.81</td>\n",
       "      <td>2.0</td>\n",
       "      <td>Neutral</td>\n",
       "      <td>7.67418</td>\n",
       "    </tr>\n",
       "    <tr>\n",
       "      <th>30991</th>\n",
       "      <td>Mystery Matters</td>\n",
       "      <td>Episode 99</td>\n",
       "      <td>NaN</td>\n",
       "      <td>True Crime</td>\n",
       "      <td>92.33</td>\n",
       "      <td>Monday</td>\n",
       "      <td>Evening</td>\n",
       "      <td>79.46</td>\n",
       "      <td>3.0</td>\n",
       "      <td>Positive</td>\n",
       "      <td>44.45066</td>\n",
       "    </tr>\n",
       "    <tr>\n",
       "      <th>364796</th>\n",
       "      <td>Mystery Matters</td>\n",
       "      <td>Episode 99</td>\n",
       "      <td>86.19</td>\n",
       "      <td>True Crime</td>\n",
       "      <td>23.66</td>\n",
       "      <td>Thursday</td>\n",
       "      <td>Morning</td>\n",
       "      <td>81.21</td>\n",
       "      <td>0.0</td>\n",
       "      <td>Positive</td>\n",
       "      <td>49.19419</td>\n",
       "    </tr>\n",
       "  </tbody>\n",
       "</table>\n",
       "<p>16002 rows × 11 columns</p>\n",
       "</div>"
      ],
      "text/plain": [
       "           Podcast_Name Episode_Title  Episode_Length_minutes       Genre  \\\n",
       "id                                                                          \n",
       "478174  Mystery Matters     Episode 1                   83.03  True Crime   \n",
       "48561   Mystery Matters     Episode 1                   68.86  True Crime   \n",
       "6639    Mystery Matters     Episode 1                   85.75  True Crime   \n",
       "344896  Mystery Matters     Episode 1                  107.40  True Crime   \n",
       "555505  Mystery Matters     Episode 1                   34.24  True Crime   \n",
       "...                 ...           ...                     ...         ...   \n",
       "345785  Mystery Matters    Episode 99                   93.51  True Crime   \n",
       "74327   Mystery Matters    Episode 99                   12.46  True Crime   \n",
       "333325  Mystery Matters    Episode 99                   24.73  True Crime   \n",
       "30991   Mystery Matters    Episode 99                     NaN  True Crime   \n",
       "364796  Mystery Matters    Episode 99                   86.19  True Crime   \n",
       "\n",
       "        Host_Popularity_percentage Publication_Day Publication_Time  \\\n",
       "id                                                                    \n",
       "478174                       41.42        Thursday            Night   \n",
       "48561                        57.14        Saturday        Afternoon   \n",
       "6639                         96.60          Monday            Night   \n",
       "344896                       68.79        Saturday          Evening   \n",
       "555505                       50.12          Friday          Morning   \n",
       "...                            ...             ...              ...   \n",
       "345785                       57.51          Monday          Evening   \n",
       "74327                        86.56          Friday          Morning   \n",
       "333325                       66.76       Wednesday          Evening   \n",
       "30991                        92.33          Monday          Evening   \n",
       "364796                       23.66        Thursday          Morning   \n",
       "\n",
       "        Guest_Popularity_percentage  Number_of_Ads Episode_Sentiment  \\\n",
       "id                                                                     \n",
       "478174                        14.98            0.0           Neutral   \n",
       "48561                         57.07            3.0          Positive   \n",
       "6639                           9.86            0.0          Negative   \n",
       "344896                        17.40            1.0           Neutral   \n",
       "555505                         0.99            0.0          Negative   \n",
       "...                             ...            ...               ...   \n",
       "345785                        36.01            0.0          Negative   \n",
       "74327                         64.54            2.0          Positive   \n",
       "333325                        43.81            2.0           Neutral   \n",
       "30991                         79.46            3.0          Positive   \n",
       "364796                        81.21            0.0          Positive   \n",
       "\n",
       "        Listening_Time_minutes  \n",
       "id                              \n",
       "478174                57.86505  \n",
       "48561                 47.08334  \n",
       "6639                  74.67764  \n",
       "344896                71.79601  \n",
       "555505                25.56524  \n",
       "...                        ...  \n",
       "345785                67.88809  \n",
       "74327                  7.21367  \n",
       "333325                 7.67418  \n",
       "30991                 44.45066  \n",
       "364796                49.19419  \n",
       "\n",
       "[16002 rows x 11 columns]"
      ]
     },
     "execution_count": 34,
     "metadata": {},
     "output_type": "execute_result"
    }
   ],
   "source": [
    "(\n",
    "    df_train\n",
    "        [df_train['Podcast_Name'] == 'Mystery Matters']\n",
    "        # [['Episode_Number','Episode_Length_minutes']]\n",
    "        .sort_values(by='Episode_Title')\n",
    ")"
   ]
  },
  {
   "cell_type": "code",
   "execution_count": null,
   "id": "f3b04e2c",
   "metadata": {},
   "outputs": [],
   "source": []
  },
  {
   "cell_type": "markdown",
   "id": "02235a65",
   "metadata": {},
   "source": [
    "# Model Training and Cross Validation\n"
   ]
  },
  {
   "cell_type": "code",
   "execution_count": null,
   "id": "65641614",
   "metadata": {},
   "outputs": [
    {
     "data": {
      "text/plain": [
       "<cyfunction seed at 0x1038b8110>"
      ]
     },
     "execution_count": 2,
     "metadata": {},
     "output_type": "execute_result"
    }
   ],
   "source": [
    "SEED = 42\n",
    "NFOLDS = 5\n",
    "np.random.seed"
   ]
  },
  {
   "cell_type": "code",
   "execution_count": null,
   "id": "cfce7dae",
   "metadata": {},
   "outputs": [],
   "source": [
    "XGB"
   ]
  }
 ],
 "metadata": {
  "kernelspec": {
   "display_name": ".venv",
   "language": "python",
   "name": "python3"
  },
  "language_info": {
   "codemirror_mode": {
    "name": "ipython",
    "version": 3
   },
   "file_extension": ".py",
   "mimetype": "text/x-python",
   "name": "python",
   "nbconvert_exporter": "python",
   "pygments_lexer": "ipython3",
   "version": "3.9.6"
  }
 },
 "nbformat": 4,
 "nbformat_minor": 5
}
