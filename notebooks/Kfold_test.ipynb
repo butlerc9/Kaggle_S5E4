{
 "cells": [
  {
   "cell_type": "code",
   "execution_count": 4,
   "id": "7ca91510",
   "metadata": {},
   "outputs": [],
   "source": [
    "from sklearn.model_selection import KFold\n",
    "from sklearn.base import BaseEstimator, TransformerMixin\n",
    "from sklearn.metrics import root_mean_squared_error\n",
    "from xgboost import XGBRegressor\n",
    "import gc\n",
    "import pandas as pd"
   ]
  },
  {
   "cell_type": "code",
   "execution_count": 5,
   "id": "d014971a",
   "metadata": {},
   "outputs": [],
   "source": [
    "folder_path = '../data/raw'\n",
    "train_data = pd.read_csv(f'{folder_path}/train.csv')\n",
    "test_data = pd.read_csv(f'{folder_path}/test.csv')\n",
    "sample = pd.read_csv(f'{folder_path}/sample_submission.csv')"
   ]
  },
  {
   "cell_type": "code",
   "execution_count": null,
   "id": "b85398b2",
   "metadata": {},
   "outputs": [],
   "source": []
  },
  {
   "cell_type": "code",
   "execution_count": 22,
   "id": "1bcbb9bb",
   "metadata": {},
   "outputs": [
    {
     "name": "stdout",
     "output_type": "stream",
     "text": [
      "fold =  1\n",
      "562500\n",
      "187500\n",
      "\n",
      "\n",
      "\n",
      "fold =  2\n",
      "562500\n",
      "187500\n",
      "\n",
      "\n",
      "\n",
      "fold =  3\n",
      "562500\n",
      "187500\n",
      "\n",
      "\n",
      "\n",
      "fold =  4\n",
      "562500\n",
      "187500\n",
      "\n",
      "\n",
      "\n"
     ]
    }
   ],
   "source": [
    "kf = KFold(n_splits=4)\n",
    "\n",
    "for fold_number, (training_indexes, validation_indexes) in enumerate(kf.split(train_data),start=1):\n",
    "    print('fold = ', fold_number)\n",
    "    print(len(training_indexes))\n",
    "    print(len(validation_indexes))\n",
    "    print('\\n\\n')"
   ]
  },
  {
   "cell_type": "code",
   "execution_count": 20,
   "id": "f50f72af",
   "metadata": {},
   "outputs": [
    {
     "name": "stdout",
     "output_type": "stream",
     "text": [
      "1 a\n",
      "2 b\n",
      "3 c\n"
     ]
    }
   ],
   "source": [
    "for i, l in enumerate(['a','b','c'],1):\n",
    "    print(i, l)"
   ]
  },
  {
   "cell_type": "code",
   "execution_count": null,
   "id": "c8d0292e",
   "metadata": {},
   "outputs": [],
   "source": []
  }
 ],
 "metadata": {
  "kernelspec": {
   "display_name": ".venv",
   "language": "python",
   "name": "python3"
  },
  "language_info": {
   "codemirror_mode": {
    "name": "ipython",
    "version": 3
   },
   "file_extension": ".py",
   "mimetype": "text/x-python",
   "name": "python",
   "nbconvert_exporter": "python",
   "pygments_lexer": "ipython3",
   "version": "3.9.6"
  }
 },
 "nbformat": 4,
 "nbformat_minor": 5
}
